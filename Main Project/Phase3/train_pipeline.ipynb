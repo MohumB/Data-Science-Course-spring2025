{
  "nbformat": 4,
  "nbformat_minor": 0,
  "metadata": {
    "colab": {
      "provenance": [],
      "gpuType": "T4"
    },
    "kernelspec": {
      "name": "python3",
      "display_name": "Python 3"
    },
    "language_info": {
      "name": "python"
    },
    "accelerator": "GPU"
  },
  "cells": [
    {
      "cell_type": "code",
      "execution_count": 15,
      "metadata": {
        "colab": {
          "base_uri": "https://localhost:8080/"
        },
        "id": "Lc6JieVeAFQo",
        "outputId": "c689339e-0cf1-4583-af82-57cd6731d5cf"
      },
      "outputs": [
        {
          "output_type": "stream",
          "name": "stdout",
          "text": [
            "fatal: destination path 'Data-Science-Course-spring2025' already exists and is not an empty directory.\n"
          ]
        }
      ],
      "source": [
        "!git clone https://github.com/nelyasi71/Data-Science-Course-spring2025.git\n",
        "# %cd \"Main Project/Phase 3\""
      ]
    },
    {
      "cell_type": "code",
      "source": [
        "%cd \"/content/Data-Science-Course-spring2025/Main Project/Phase3/scripts\""
      ],
      "metadata": {
        "colab": {
          "base_uri": "https://localhost:8080/"
        },
        "id": "fdYCvWLpBSGv",
        "outputId": "b8866c3a-cdf4-4d19-df2d-f847d0edba1d"
      },
      "execution_count": 18,
      "outputs": [
        {
          "output_type": "stream",
          "name": "stdout",
          "text": [
            "/content/Data-Science-Course-spring2025/Main Project/Phase3/scripts\n"
          ]
        }
      ]
    },
    {
      "cell_type": "code",
      "source": [
        "!python setup.py install\n",
        "# !python 2_load_data.py\n",
        "# !python 3_train.py"
      ],
      "metadata": {
        "colab": {
          "base_uri": "https://localhost:8080/"
        },
        "id": "RjxolTw7Ag39",
        "outputId": "1fb84179-eba6-455c-bb21-6ba15f5aacb7"
      },
      "execution_count": 24,
      "outputs": [
        {
          "output_type": "stream",
          "name": "stdout",
          "text": [
            "running install\n",
            "/usr/local/lib/python3.11/dist-packages/setuptools/_distutils/cmd.py:66: SetuptoolsDeprecationWarning: setup.py install is deprecated.\n",
            "!!\n",
            "\n",
            "        ********************************************************************************\n",
            "        Please avoid running ``setup.py`` directly.\n",
            "        Instead, use pypa/build, pypa/installer or other\n",
            "        standards-based tools.\n",
            "\n",
            "        See https://blog.ganssle.io/articles/2021/10/setup-py-deprecated.html for details.\n",
            "        ********************************************************************************\n",
            "\n",
            "!!\n",
            "  self.initialize_options()\n",
            "/usr/local/lib/python3.11/dist-packages/setuptools/_distutils/cmd.py:66: EasyInstallDeprecationWarning: easy_install command is deprecated.\n",
            "!!\n",
            "\n",
            "        ********************************************************************************\n",
            "        Please avoid running ``setup.py`` and ``easy_install``.\n",
            "        Instead, use pypa/build, pypa/installer or other\n",
            "        standards-based tools.\n",
            "\n",
            "        See https://github.com/pypa/setuptools/issues/917 for details.\n",
            "        ********************************************************************************\n",
            "\n",
            "!!\n",
            "  self.initialize_options()\n",
            "running bdist_egg\n",
            "running egg_info\n",
            "writing llama_finetuner.egg-info/PKG-INFO\n",
            "writing dependency_links to llama_finetuner.egg-info/dependency_links.txt\n",
            "writing requirements to llama_finetuner.egg-info/requires.txt\n",
            "writing top-level names to llama_finetuner.egg-info/top_level.txt\n",
            "reading manifest file 'llama_finetuner.egg-info/SOURCES.txt'\n",
            "writing manifest file 'llama_finetuner.egg-info/SOURCES.txt'\n",
            "installing library code to build/bdist.linux-x86_64/egg\n",
            "running install_lib\n",
            "warning: install_lib: 'build/lib' does not exist -- no Python modules to install\n",
            "\n",
            "creating build/bdist.linux-x86_64/egg/EGG-INFO\n",
            "copying llama_finetuner.egg-info/PKG-INFO -> build/bdist.linux-x86_64/egg/EGG-INFO\n",
            "copying llama_finetuner.egg-info/SOURCES.txt -> build/bdist.linux-x86_64/egg/EGG-INFO\n",
            "copying llama_finetuner.egg-info/dependency_links.txt -> build/bdist.linux-x86_64/egg/EGG-INFO\n",
            "copying llama_finetuner.egg-info/requires.txt -> build/bdist.linux-x86_64/egg/EGG-INFO\n",
            "copying llama_finetuner.egg-info/top_level.txt -> build/bdist.linux-x86_64/egg/EGG-INFO\n",
            "zip_safe flag not set; analyzing archive contents...\n",
            "creating 'dist/llama_finetuner-0.1-py3.11.egg' and adding 'build/bdist.linux-x86_64/egg' to it\n",
            "removing 'build/bdist.linux-x86_64/egg' (and everything under it)\n",
            "Processing llama_finetuner-0.1-py3.11.egg\n",
            "Removing /usr/local/lib/python3.11/dist-packages/llama_finetuner-0.1-py3.11.egg\n",
            "Copying llama_finetuner-0.1-py3.11.egg to /usr/local/lib/python3.11/dist-packages\n",
            "Adding llama-finetuner 0.1 to easy-install.pth file\n",
            "\n",
            "Installed /usr/local/lib/python3.11/dist-packages/llama_finetuner-0.1-py3.11.egg\n",
            "Processing dependencies for llama-finetuner==0.1\n",
            "error: protobuf 5.29.5 is installed but protobuf<4.0.0 is required by {'unsloth'}\n"
          ]
        }
      ]
    },
    {
      "cell_type": "code",
      "source": [
        "!python load_training_data.py"
      ],
      "metadata": {
        "colab": {
          "base_uri": "https://localhost:8080/"
        },
        "id": "Oabene0pNxeb",
        "outputId": "3a553d5c-30cb-4c71-df48-3ff216d8dfb2"
      },
      "execution_count": 25,
      "outputs": [
        {
          "output_type": "stream",
          "name": "stdout",
          "text": [
            "Loaded dataset with 7308 samples\n",
            "{'text': 'By Charles Dickens.'}\n",
            "\rSaving the dataset (0/1 shards):   0% 0/7308 [00:00<?, ? examples/s]\rSaving the dataset (1/1 shards): 100% 7308/7308 [00:00<00:00, 527736.19 examples/s]\rSaving the dataset (1/1 shards): 100% 7308/7308 [00:00<00:00, 520230.37 examples/s]\n",
            "Dataset saved to /content/Data-Science-Course-spring2025/Main Project/Phase3\n"
          ]
        }
      ]
    },
    {
      "cell_type": "code",
      "source": [
        "!python train_model.py \\\n",
        "    --dataset_path /content/Data-Science-Course-spring2025/Main Project/Phase3/data-00000-of-00001.arrow \\\n",
        "    --output_dir ./model_output \\\n",
        "    --model_name \"meta-llama/Llama-3.2-3B-Instruct\""
      ],
      "metadata": {
        "colab": {
          "base_uri": "https://localhost:8080/"
        },
        "id": "ZBk9SSu3P_el",
        "outputId": "587e8de4-06b6-4a66-972a-645f99f15191"
      },
      "execution_count": 27,
      "outputs": [
        {
          "output_type": "stream",
          "name": "stdout",
          "text": [
            "Traceback (most recent call last):\n",
            "  File \"/content/Data-Science-Course-spring2025/Main Project/Phase3/scripts/train_model.py\", line 8, in <module>\n",
            "    from unsloth import FastLanguageModel  # Keep this FIRST import\n",
            "    ^^^^^^^^^^^^^^^^^^^^^^^^^^^^^^^^^^^^^\n",
            "  File \"/usr/local/lib/python3.11/dist-packages/unsloth-2025.5.9-py3.11.egg/unsloth/__init__.py\", line 88, in <module>\n",
            "    DEVICE_TYPE : str = get_device_type()\n",
            "                        ^^^^^^^^^^^^^^^^^\n",
            "  File \"/usr/local/lib/python3.11/dist-packages/unsloth-2025.5.9-py3.11.egg/unsloth/__init__.py\", line 86, in get_device_type\n",
            "    raise NotImplementedError(\"Unsloth currently only works on NVIDIA GPUs and Intel GPUs.\")\n",
            "NotImplementedError: Unsloth currently only works on NVIDIA GPUs and Intel GPUs.\n"
          ]
        }
      ]
    }
  ]
}