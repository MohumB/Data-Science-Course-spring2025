{
 "cells": [
  {
   "cell_type": "code",
   "execution_count": null,
   "id": "ff6a0611",
   "metadata": {},
   "outputs": [],
   "source": [
    "import pandas as pd"
   ]
  },
  {
   "cell_type": "code",
   "execution_count": 4,
   "id": "affd778e",
   "metadata": {},
   "outputs": [],
   "source": [
    "input_text = '../Crawling/David_Copperfield.txt'  \n",
    "output_file = 'text.csv'  "
   ]
  },
  {
   "cell_type": "code",
   "execution_count": 6,
   "id": "428eba1b",
   "metadata": {},
   "outputs": [],
   "source": [
    "with open(input_text, 'r', encoding='utf-8') as file:\n",
    "    text = file.read()\n"
   ]
  },
  {
   "cell_type": "code",
   "execution_count": null,
   "id": "d30f20c0",
   "metadata": {},
   "outputs": [],
   "source": [
    "df = pd.DataFrame([text], columns=['text'])\n",
    "df.to_csv(output_file, index=False)"
   ]
  }
 ],
 "metadata": {
  "kernelspec": {
   "display_name": "Python 3",
   "language": "python",
   "name": "python3"
  },
  "language_info": {
   "codemirror_mode": {
    "name": "ipython",
    "version": 3
   },
   "file_extension": ".py",
   "mimetype": "text/x-python",
   "name": "python",
   "nbconvert_exporter": "python",
   "pygments_lexer": "ipython3",
   "version": "3.8.10"
  }
 },
 "nbformat": 4,
 "nbformat_minor": 5
}
