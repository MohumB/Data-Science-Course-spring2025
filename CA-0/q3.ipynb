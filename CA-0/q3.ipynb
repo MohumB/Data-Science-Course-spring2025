{
 "cells": [
  {
   "cell_type": "code",
   "execution_count": 18,
   "metadata": {},
   "outputs": [],
   "source": [
    "import pandas as pd\n"
   ]
  },
  {
   "cell_type": "code",
   "execution_count": 19,
   "metadata": {},
   "outputs": [],
   "source": [
    "FILE_NAME = \"drug_safety.csv\""
   ]
  },
  {
   "cell_type": "code",
   "execution_count": 20,
   "metadata": {},
   "outputs": [],
   "source": [
    "dataset = pd.read_csv(FILE_NAME)"
   ]
  },
  {
   "cell_type": "code",
   "execution_count": 21,
   "metadata": {},
   "outputs": [
    {
     "data": {
      "text/html": [
       "<div>\n",
       "<style scoped>\n",
       "    .dataframe tbody tr th:only-of-type {\n",
       "        vertical-align: middle;\n",
       "    }\n",
       "\n",
       "    .dataframe tbody tr th {\n",
       "        vertical-align: top;\n",
       "    }\n",
       "\n",
       "    .dataframe thead th {\n",
       "        text-align: right;\n",
       "    }\n",
       "</style>\n",
       "<table border=\"1\" class=\"dataframe\">\n",
       "  <thead>\n",
       "    <tr style=\"text-align: right;\">\n",
       "      <th></th>\n",
       "      <th>age</th>\n",
       "      <th>sex</th>\n",
       "      <th>trx</th>\n",
       "      <th>week</th>\n",
       "      <th>wbc</th>\n",
       "      <th>rbc</th>\n",
       "      <th>adverse_effects</th>\n",
       "      <th>num_effects</th>\n",
       "    </tr>\n",
       "  </thead>\n",
       "  <tbody>\n",
       "    <tr>\n",
       "      <th>0</th>\n",
       "      <td>62</td>\n",
       "      <td>male</td>\n",
       "      <td>Drug</td>\n",
       "      <td>0</td>\n",
       "      <td>7.3</td>\n",
       "      <td>5.1</td>\n",
       "      <td>No</td>\n",
       "      <td>0</td>\n",
       "    </tr>\n",
       "    <tr>\n",
       "      <th>1</th>\n",
       "      <td>62</td>\n",
       "      <td>male</td>\n",
       "      <td>Drug</td>\n",
       "      <td>1</td>\n",
       "      <td>NaN</td>\n",
       "      <td>NaN</td>\n",
       "      <td>No</td>\n",
       "      <td>0</td>\n",
       "    </tr>\n",
       "    <tr>\n",
       "      <th>2</th>\n",
       "      <td>62</td>\n",
       "      <td>male</td>\n",
       "      <td>Drug</td>\n",
       "      <td>12</td>\n",
       "      <td>5.6</td>\n",
       "      <td>5.0</td>\n",
       "      <td>No</td>\n",
       "      <td>0</td>\n",
       "    </tr>\n",
       "    <tr>\n",
       "      <th>3</th>\n",
       "      <td>62</td>\n",
       "      <td>male</td>\n",
       "      <td>Drug</td>\n",
       "      <td>16</td>\n",
       "      <td>NaN</td>\n",
       "      <td>NaN</td>\n",
       "      <td>No</td>\n",
       "      <td>0</td>\n",
       "    </tr>\n",
       "    <tr>\n",
       "      <th>4</th>\n",
       "      <td>62</td>\n",
       "      <td>male</td>\n",
       "      <td>Drug</td>\n",
       "      <td>2</td>\n",
       "      <td>6.6</td>\n",
       "      <td>5.1</td>\n",
       "      <td>No</td>\n",
       "      <td>0</td>\n",
       "    </tr>\n",
       "  </tbody>\n",
       "</table>\n",
       "</div>"
      ],
      "text/plain": [
       "   age   sex   trx  week  wbc  rbc adverse_effects  num_effects\n",
       "0   62  male  Drug     0  7.3  5.1              No            0\n",
       "1   62  male  Drug     1  NaN  NaN              No            0\n",
       "2   62  male  Drug    12  5.6  5.0              No            0\n",
       "3   62  male  Drug    16  NaN  NaN              No            0\n",
       "4   62  male  Drug     2  6.6  5.1              No            0"
      ]
     },
     "execution_count": 21,
     "metadata": {},
     "output_type": "execute_result"
    }
   ],
   "source": [
    "dataset.head()"
   ]
  },
  {
   "cell_type": "code",
   "execution_count": 22,
   "metadata": {},
   "outputs": [
    {
     "name": "stdout",
     "output_type": "stream",
     "text": [
      "['wbc', 'rbc']\n"
     ]
    }
   ],
   "source": [
    "def missing_values(dataset):\n",
    "    values_with_nan = [col for col in dataset.columns if dataset[col].isnull().sum() > 0 ]\n",
    "    return values_with_nan\n",
    "\n",
    "print(missing_values(dataset))"
   ]
  },
  {
   "cell_type": "code",
   "execution_count": 23,
   "metadata": {},
   "outputs": [],
   "source": [
    "df = dataset.dropna()"
   ]
  },
  {
   "cell_type": "code",
   "execution_count": 24,
   "metadata": {},
   "outputs": [
    {
     "data": {
      "text/plain": [
       "pandas.core.series.Series"
      ]
     },
     "execution_count": 24,
     "metadata": {},
     "output_type": "execute_result"
    }
   ],
   "source": [
    "type(df['rbc'])"
   ]
  },
  {
   "cell_type": "code",
   "execution_count": 25,
   "metadata": {},
   "outputs": [
    {
     "name": "stdout",
     "output_type": "stream",
     "text": [
      "<class 'pandas.core.frame.DataFrame'>\n",
      "Int64Index: 9127 entries, 0 to 16102\n",
      "Data columns (total 8 columns):\n",
      " #   Column           Non-Null Count  Dtype  \n",
      "---  ------           --------------  -----  \n",
      " 0   age              9127 non-null   int64  \n",
      " 1   sex              9127 non-null   object \n",
      " 2   trx              9127 non-null   object \n",
      " 3   week             9127 non-null   int64  \n",
      " 4   wbc              9127 non-null   float64\n",
      " 5   rbc              9127 non-null   float64\n",
      " 6   adverse_effects  9127 non-null   object \n",
      " 7   num_effects      9127 non-null   int64  \n",
      "dtypes: float64(2), int64(3), object(3)\n",
      "memory usage: 641.7+ KB\n"
     ]
    }
   ],
   "source": [
    "df.info()"
   ]
  },
  {
   "cell_type": "code",
   "execution_count": 26,
   "metadata": {},
   "outputs": [
    {
     "data": {
      "text/html": [
       "<div>\n",
       "<style scoped>\n",
       "    .dataframe tbody tr th:only-of-type {\n",
       "        vertical-align: middle;\n",
       "    }\n",
       "\n",
       "    .dataframe tbody tr th {\n",
       "        vertical-align: top;\n",
       "    }\n",
       "\n",
       "    .dataframe thead th {\n",
       "        text-align: right;\n",
       "    }\n",
       "</style>\n",
       "<table border=\"1\" class=\"dataframe\">\n",
       "  <thead>\n",
       "    <tr style=\"text-align: right;\">\n",
       "      <th></th>\n",
       "      <th>age</th>\n",
       "      <th>sex</th>\n",
       "      <th>trx</th>\n",
       "      <th>week</th>\n",
       "      <th>wbc</th>\n",
       "      <th>rbc</th>\n",
       "      <th>adverse_effects</th>\n",
       "      <th>num_effects</th>\n",
       "    </tr>\n",
       "  </thead>\n",
       "  <tbody>\n",
       "    <tr>\n",
       "      <th>0</th>\n",
       "      <td>62</td>\n",
       "      <td>male</td>\n",
       "      <td>Drug</td>\n",
       "      <td>0</td>\n",
       "      <td>7.3</td>\n",
       "      <td>5.1</td>\n",
       "      <td>No</td>\n",
       "      <td>0</td>\n",
       "    </tr>\n",
       "    <tr>\n",
       "      <th>2</th>\n",
       "      <td>62</td>\n",
       "      <td>male</td>\n",
       "      <td>Drug</td>\n",
       "      <td>12</td>\n",
       "      <td>5.6</td>\n",
       "      <td>5.0</td>\n",
       "      <td>No</td>\n",
       "      <td>0</td>\n",
       "    </tr>\n",
       "    <tr>\n",
       "      <th>4</th>\n",
       "      <td>62</td>\n",
       "      <td>male</td>\n",
       "      <td>Drug</td>\n",
       "      <td>2</td>\n",
       "      <td>6.6</td>\n",
       "      <td>5.1</td>\n",
       "      <td>No</td>\n",
       "      <td>0</td>\n",
       "    </tr>\n",
       "    <tr>\n",
       "      <th>6</th>\n",
       "      <td>62</td>\n",
       "      <td>male</td>\n",
       "      <td>Drug</td>\n",
       "      <td>4</td>\n",
       "      <td>6.9</td>\n",
       "      <td>5.2</td>\n",
       "      <td>Yes</td>\n",
       "      <td>1</td>\n",
       "    </tr>\n",
       "    <tr>\n",
       "      <th>7</th>\n",
       "      <td>62</td>\n",
       "      <td>male</td>\n",
       "      <td>Drug</td>\n",
       "      <td>8</td>\n",
       "      <td>7.1</td>\n",
       "      <td>5.0</td>\n",
       "      <td>Yes</td>\n",
       "      <td>1</td>\n",
       "    </tr>\n",
       "    <tr>\n",
       "      <th>...</th>\n",
       "      <td>...</td>\n",
       "      <td>...</td>\n",
       "      <td>...</td>\n",
       "      <td>...</td>\n",
       "      <td>...</td>\n",
       "      <td>...</td>\n",
       "      <td>...</td>\n",
       "      <td>...</td>\n",
       "    </tr>\n",
       "    <tr>\n",
       "      <th>16095</th>\n",
       "      <td>78</td>\n",
       "      <td>male</td>\n",
       "      <td>Placebo</td>\n",
       "      <td>0</td>\n",
       "      <td>7.2</td>\n",
       "      <td>5.0</td>\n",
       "      <td>No</td>\n",
       "      <td>0</td>\n",
       "    </tr>\n",
       "    <tr>\n",
       "      <th>16097</th>\n",
       "      <td>78</td>\n",
       "      <td>male</td>\n",
       "      <td>Placebo</td>\n",
       "      <td>12</td>\n",
       "      <td>6.5</td>\n",
       "      <td>4.9</td>\n",
       "      <td>No</td>\n",
       "      <td>0</td>\n",
       "    </tr>\n",
       "    <tr>\n",
       "      <th>16099</th>\n",
       "      <td>78</td>\n",
       "      <td>male</td>\n",
       "      <td>Placebo</td>\n",
       "      <td>2</td>\n",
       "      <td>7.5</td>\n",
       "      <td>4.9</td>\n",
       "      <td>No</td>\n",
       "      <td>0</td>\n",
       "    </tr>\n",
       "    <tr>\n",
       "      <th>16101</th>\n",
       "      <td>78</td>\n",
       "      <td>male</td>\n",
       "      <td>Placebo</td>\n",
       "      <td>4</td>\n",
       "      <td>6.4</td>\n",
       "      <td>4.8</td>\n",
       "      <td>No</td>\n",
       "      <td>0</td>\n",
       "    </tr>\n",
       "    <tr>\n",
       "      <th>16102</th>\n",
       "      <td>78</td>\n",
       "      <td>male</td>\n",
       "      <td>Placebo</td>\n",
       "      <td>8</td>\n",
       "      <td>7.8</td>\n",
       "      <td>4.8</td>\n",
       "      <td>No</td>\n",
       "      <td>0</td>\n",
       "    </tr>\n",
       "  </tbody>\n",
       "</table>\n",
       "<p>9127 rows × 8 columns</p>\n",
       "</div>"
      ],
      "text/plain": [
       "       age   sex      trx  week  wbc  rbc adverse_effects  num_effects\n",
       "0       62  male     Drug     0  7.3  5.1              No            0\n",
       "2       62  male     Drug    12  5.6  5.0              No            0\n",
       "4       62  male     Drug     2  6.6  5.1              No            0\n",
       "6       62  male     Drug     4  6.9  5.2             Yes            1\n",
       "7       62  male     Drug     8  7.1  5.0             Yes            1\n",
       "...    ...   ...      ...   ...  ...  ...             ...          ...\n",
       "16095   78  male  Placebo     0  7.2  5.0              No            0\n",
       "16097   78  male  Placebo    12  6.5  4.9              No            0\n",
       "16099   78  male  Placebo     2  7.5  4.9              No            0\n",
       "16101   78  male  Placebo     4  6.4  4.8              No            0\n",
       "16102   78  male  Placebo     8  7.8  4.8              No            0\n",
       "\n",
       "[9127 rows x 8 columns]"
      ]
     },
     "execution_count": 26,
     "metadata": {},
     "output_type": "execute_result"
    }
   ],
   "source": [
    "df"
   ]
  },
  {
   "cell_type": "code",
   "execution_count": 27,
   "metadata": {},
   "outputs": [
    {
     "name": "stdout",
     "output_type": "stream",
     "text": [
      "mean values:  age            64.007670\n",
      "week            4.985428\n",
      "wbc             7.340331\n",
      "rbc             4.672784\n",
      "num_effects     0.100800\n",
      "dtype: float64\n",
      "std values:  age            8.847711\n",
      "week           4.375397\n",
      "wbc            1.996645\n",
      "rbc            0.458520\n",
      "num_effects    0.322178\n",
      "dtype: float64\n"
     ]
    }
   ],
   "source": [
    "def display_basic_statics(df):\n",
    "    mean_values = df.mean(numeric_only = True)\n",
    "    std_values = df.std(numeric_only = True)\n",
    "    return mean_values, std_values\n",
    "\n",
    "mean_values, std_values = display_basic_statics(df)\n",
    "print(\"mean values: \", mean_values)\n",
    "print(\"std values: \", std_values)\n"
   ]
  },
  {
   "cell_type": "code",
   "execution_count": 28,
   "metadata": {},
   "outputs": [
    {
     "name": "stdout",
     "output_type": "stream",
     "text": [
      "<class 'pandas.core.frame.DataFrame'>\n",
      "Int64Index: 6011 entries, 0 to 16092\n",
      "Data columns (total 8 columns):\n",
      " #   Column           Non-Null Count  Dtype  \n",
      "---  ------           --------------  -----  \n",
      " 0   age              6011 non-null   int64  \n",
      " 1   sex              6011 non-null   object \n",
      " 2   trx              6011 non-null   object \n",
      " 3   week             6011 non-null   int64  \n",
      " 4   wbc              6011 non-null   float64\n",
      " 5   rbc              6011 non-null   float64\n",
      " 6   adverse_effects  6011 non-null   object \n",
      " 7   num_effects      6011 non-null   int64  \n",
      "dtypes: float64(2), int64(3), object(3)\n",
      "memory usage: 422.6+ KB\n",
      "<class 'pandas.core.frame.DataFrame'>\n",
      "Int64Index: 3116 entries, 32 to 16102\n",
      "Data columns (total 8 columns):\n",
      " #   Column           Non-Null Count  Dtype  \n",
      "---  ------           --------------  -----  \n",
      " 0   age              3116 non-null   int64  \n",
      " 1   sex              3116 non-null   object \n",
      " 2   trx              3116 non-null   object \n",
      " 3   week             3116 non-null   int64  \n",
      " 4   wbc              3116 non-null   float64\n",
      " 5   rbc              3116 non-null   float64\n",
      " 6   adverse_effects  3116 non-null   object \n",
      " 7   num_effects      3116 non-null   int64  \n",
      "dtypes: float64(2), int64(3), object(3)\n",
      "memory usage: 219.1+ KB\n"
     ]
    }
   ],
   "source": [
    "def group_by_trx(df):\n",
    "    df_drug = df[df['trx'] == 'Drug']\n",
    "    df_placebo = df[df['trx'] == 'Placebo']\n",
    "    return df_drug, df_placebo\n",
    "df_drug, df_placebo = group_by_trx(df)\n",
    "df_drug.info()\n",
    "df_placebo.info()"
   ]
  },
  {
   "cell_type": "code",
   "execution_count": 35,
   "metadata": {},
   "outputs": [
    {
     "name": "stdout",
     "output_type": "stream",
     "text": [
      "Stats of Drug Group:             wbc      rbc  num_effects\n",
      "mean  7.330461  4.67913     0.102479\n",
      "std   2.008941  0.45499     0.325529\n",
      "Stats of Placebo Group:             wbc       rbc  num_effects\n",
      "mean  7.359371  4.660542     0.097561\n",
      "std   1.972890  0.465083     0.315639\n"
     ]
    }
   ],
   "source": [
    "def key_statistics(df):  #check if other statics are needed\n",
    "    mean_val_wbc = df['wbc'].mean(numeric_only = True)\n",
    "    std_val_wbc = df['wbc'].std(numeric_only = True)\n",
    "    \n",
    "    mean_val_rbc = df['rbc'].mean(numeric_only = True)\n",
    "    std_val_rbc = df['rbc'].std(numeric_only = True)\n",
    "    \n",
    "    mean_val_effects = df['num_effects'].mean(numeric_only = True)\n",
    "    std_val_effects = df['num_effects'].std(numeric_only = True)\n",
    "    \n",
    "    stats_df = pd.DataFrame({\n",
    "        'wbc': [mean_val_wbc, std_val_wbc],\n",
    "        'rbc': [mean_val_rbc, std_val_rbc],\n",
    "        'num_effects': [mean_val_effects, std_val_effects]\n",
    "    }, index=['mean', 'std'])  \n",
    "    \n",
    "    return stats_df\n",
    "stats_df_drug = key_statistics(df_drug)\n",
    "\n",
    "stats_df_placebo = key_statistics(df_placebo)\n",
    "print(\"Stats of Drug Group: \", stats_df_drug)\n",
    "print(\"Stats of Placebo Group: \", stats_df_placebo)\n"
   ]
  },
  {
   "cell_type": "code",
   "execution_count": 30,
   "metadata": {},
   "outputs": [
    {
     "name": "stdout",
     "output_type": "stream",
     "text": [
      "0.09466418319272488\n"
     ]
    },
    {
     "name": "stderr",
     "output_type": "stream",
     "text": [
      "C:\\Users\\AsusIran\\AppData\\Local\\Temp\\ipykernel_31068\\2005296984.py:3: DeprecationWarning: In a future version, `df.iloc[:, i] = newvals` will attempt to set the values inplace instead of always setting a new array. To retain the old behavior, use either `df[df.columns[i]] = newvals` or, if columns are non-unique, `df.isetitem(i, newvals)`\n",
      "  df.loc[:, 'adverse_effects'] = df['adverse_effects'].replace({'Yes': 1, 'No': 0})\n"
     ]
    }
   ],
   "source": [
    "def numerical_adverse_effects(df):\n",
    "    df = df.copy()  \n",
    "    df.loc[:, 'adverse_effects'] = df['adverse_effects'].replace({'Yes': 1, 'No': 0})\n",
    "    return df\n",
    "\n",
    "df = numerical_adverse_effects(df)\n",
    "mean_adverse_effects = df['adverse_effects'].mean(numeric_only = True)\n",
    "print(mean_adverse_effects)"
   ]
  },
  {
   "cell_type": "code",
   "execution_count": 31,
   "metadata": {},
   "outputs": [
    {
     "name": "stderr",
     "output_type": "stream",
     "text": [
      "C:\\Users\\AsusIran\\AppData\\Local\\Temp\\ipykernel_31068\\2005296984.py:3: DeprecationWarning: In a future version, `df.iloc[:, i] = newvals` will attempt to set the values inplace instead of always setting a new array. To retain the old behavior, use either `df[df.columns[i]] = newvals` or, if columns are non-unique, `df.isetitem(i, newvals)`\n",
      "  df.loc[:, 'adverse_effects'] = df['adverse_effects'].replace({'Yes': 1, 'No': 0})\n"
     ]
    }
   ],
   "source": [
    "df_drug = numerical_adverse_effects(df_drug)\n",
    "df_placebo = numerical_adverse_effects(df_placebo)"
   ]
  },
  {
   "cell_type": "code",
   "execution_count": 39,
   "metadata": {},
   "outputs": [
    {
     "name": "stdout",
     "output_type": "stream",
     "text": [
      "difference of mean in wbc between drug and placebo df:  -0.028910170485221265\n",
      "difference of mean in rbc between drug and placebo df:  0.01858756715194776\n",
      "difference of mean in num effects between drug and placebo df:  0.0049178132772843275\n",
      "difference of mean in adverse_effects between drug and placebo df:  0.003885420588570082\n"
     ]
    }
   ],
   "source": [
    "def diff_calc(df_drug, df_placebo, col):\n",
    "    mean_wbc_drug = df_drug[col].mean(numeric_only = True)\n",
    "    mean_wbc_placebo = df_placebo[col].mean(numeric_only = True)\n",
    "    return (mean_wbc_drug - mean_wbc_placebo)\n",
    "\n",
    "\n",
    "diff_mean_wbc = diff_calc(df_drug, df_placebo, 'wbc')\n",
    "print(\"difference of mean in wbc between drug and placebo df: \", diff_mean_wbc)\n",
    "\n",
    "diff_mean_rbc = diff_calc(df_drug, df_placebo, 'rbc')\n",
    "print(\"difference of mean in rbc between drug and placebo df: \", diff_mean_rbc)\n",
    "\n",
    "diff_mean_num_effects = diff_calc(df_drug, df_placebo, 'num_effects')\n",
    "print(\"difference of mean in num effects between drug and placebo df: \", diff_mean_num_effects)\n",
    "\n",
    "diff_mean_adverse_effects = diff_calc(df_drug, df_placebo, 'adverse_effects')\n",
    "print(\"difference of mean in adverse_effects between drug and placebo df: \", diff_mean_adverse_effects)\n",
    "\n",
    "\n",
    "    "
   ]
  },
  {
   "cell_type": "markdown",
   "metadata": {},
   "source": [
    "Perform Hypothesis Testing"
   ]
  },
  {
   "cell_type": "markdown",
   "metadata": {},
   "source": [
    "As you can see in the output, for the p-value being 0.05, all the tests fail, meaning that the H0 is accepted and there is no significant difference in wbc, rbc, num_effects and adverse_effects between the drug and placebo groups."
   ]
  },
  {
   "cell_type": "code",
   "execution_count": 41,
   "metadata": {},
   "outputs": [
    {
     "name": "stdout",
     "output_type": "stream",
     "text": [
      "T-test for wbc: t-stat = -0.6559, p-value = 0.2559\n",
      "  → Fail to reject H₀: No significant difference in wbc.\n",
      "T-test for rbc: t-stat = 1.8367, p-value = 0.0331\n",
      "  → Reject H₀: Significant difference in rbc between Drug and Placebo groups.\n",
      "T-test for num_effects: t-stat = 0.6915, p-value = 0.2446\n",
      "  → Fail to reject H₀: No significant difference in num_effects.\n",
      "T-test for adverse_effects: t-stat = 0.6012, p-value = 0.2739\n",
      "  → Fail to reject H₀: No significant difference in adverse_effects.\n"
     ]
    }
   ],
   "source": [
    "from scipy.stats import ttest_ind\n",
    "\n",
    "def perform_t_test(df_drug, df_placebo, col):\n",
    "    if col == \"wbc\":\n",
    "        alternative = 'less'\n",
    "    else :\n",
    "        alternative = 'greater'\n",
    "    t_stat, p_value = ttest_ind(df_drug[col], df_placebo[col], equal_var = True, alternative = alternative)\n",
    "    return t_stat, p_value\n",
    "\n",
    "metrics = ['wbc', 'rbc', 'num_effects', 'adverse_effects']\n",
    "\n",
    "for metric in metrics:\n",
    "    t_stat, p_value = perform_t_test(df_drug, df_placebo, metric)\n",
    "    print(f\"T-test for {metric}: t-stat = {t_stat:.4f}, p-value = {p_value:.4f}\")\n",
    "    \n",
    "    if p_value < 0.05:\n",
    "        print(f\"  → Reject H₀: Significant difference in {metric} between Drug and Placebo groups.\")\n",
    "    else:\n",
    "        print(f\"  → Fail to reject H₀: No significant difference in {metric}.\")"
   ]
  },
  {
   "cell_type": "markdown",
   "metadata": {},
   "source": [
    "As for the p-value being set to 0.1, the tests for wbc, num_effects and adverse_effects will fail but there is a significant difference detected in rbc between two groups."
   ]
  },
  {
   "cell_type": "code",
   "execution_count": 42,
   "metadata": {},
   "outputs": [
    {
     "name": "stdout",
     "output_type": "stream",
     "text": [
      "T-test for wbc: t-stat = -0.6559, p-value = 0.2559\n",
      "  → Fail to reject H₀: No significant difference in wbc.\n",
      "T-test for rbc: t-stat = 1.8367, p-value = 0.0331\n",
      "  → Reject H₀: Significant difference in rbc between Drug and Placebo groups.\n",
      "T-test for num_effects: t-stat = 0.6915, p-value = 0.2446\n",
      "  → Fail to reject H₀: No significant difference in num_effects.\n",
      "T-test for adverse_effects: t-stat = 0.6012, p-value = 0.2739\n",
      "  → Fail to reject H₀: No significant difference in adverse_effects.\n"
     ]
    }
   ],
   "source": [
    "for metric in metrics:\n",
    "    t_stat, p_value = perform_t_test(df_drug, df_placebo, metric)\n",
    "    print(f\"T-test for {metric}: t-stat = {t_stat:.4f}, p-value = {p_value:.4f}\")\n",
    "    \n",
    "    if p_value < 0.1:\n",
    "        print(f\"  → Reject H₀: Significant difference in {metric} between Drug and Placebo groups.\")\n",
    "    else:\n",
    "        print(f\"  → Fail to reject H₀: No significant difference in {metric}.\")"
   ]
  },
  {
   "cell_type": "markdown",
   "metadata": {},
   "source": [
    "Interpretation: RBC count showed some level of significance when the p-value was set to 0.1. But when the p-value was 0.05 (stricter), the difference was not significant. This is showing that the difference between RBC count might not be very strong or conclusive.\n",
    "As for WBC, num_effects and adverse_effects, there is no evidennce of a significant different between drug and placebo groups."
   ]
  },
  {
   "cell_type": "markdown",
   "metadata": {},
   "source": [
    "Some Additional info on p-value: is a probability that helps us determine whether the results of a hypothesis test are statistically significant or if they could have happened by chance. Thw common threshhold for this in most scientific studies is 0.05. Meaning that if the stat is below 0.05, we reject H0 and otherwise, fail to reject H0."
   ]
  },
  {
   "cell_type": "markdown",
   "metadata": {},
   "source": [
    "**equal-var argument**: \n",
    "\n",
    "If True, perform a standard independent 2 sample test that assumes equal population variances. If False, perform Welch’s t-test, which does not assume equal population variance. \n",
    "Because the standard deviation of Drug and Placebo group were near (calculated when I calculated the stats for each group), the equal-var was set to True.\n"
   ]
  },
  {
   "cell_type": "markdown",
   "metadata": {},
   "source": [
    "**alternative argument**:\n",
    "\n",
    "‘two-sided’: the means of the distributions underlying the samples are unequal.\n",
    "\n",
    "‘less’: the mean of the distribution underlying the first sample is less than the mean of the distribution underlying the second sample.\n",
    "\n",
    "‘greater’: the mean of the distribution underlying the first sample is greater than the mean of the distribution underlying the second sample.\n",
    "\n",
    "Because in all of the 4 metrics, exept wbc, the *Drug mean* is more than the *Placebo mean*, the alternative argument for all of them exept wbc, should be greater. The alternative for wbc should be set to less."
   ]
  }
 ],
 "metadata": {
  "kernelspec": {
   "display_name": "envname",
   "language": "python",
   "name": "python3"
  },
  "language_info": {
   "codemirror_mode": {
    "name": "ipython",
    "version": 3
   },
   "file_extension": ".py",
   "mimetype": "text/x-python",
   "name": "python",
   "nbconvert_exporter": "python",
   "pygments_lexer": "ipython3",
   "version": "3.11.8"
  }
 },
 "nbformat": 4,
 "nbformat_minor": 2
}
