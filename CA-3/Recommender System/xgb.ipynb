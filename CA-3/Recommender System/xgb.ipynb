{
 "cells": [
  {
   "cell_type": "code",
   "execution_count": 1,
   "id": "0d6b773e",
   "metadata": {},
   "outputs": [],
   "source": [
    "import pandas as pd\n",
    "import numpy as np\n",
    "import xgboost as xgb\n",
    "from sklearn.model_selection import train_test_split, RandomizedSearchCV\n",
    "from sklearn.metrics import r2_score, mean_squared_error\n",
    "from scipy.stats import uniform, randint\n"
   ]
  },
  {
   "cell_type": "code",
   "execution_count": null,
   "id": "1fa2c553",
   "metadata": {},
   "outputs": [],
   "source": [
    "K = 11  \n",
    "RATING_FILE = 'train_data_movie_rate.csv'\n",
    "TRUST_FILE  = 'train_data_movie_trust.csv'\n",
    "TEST_FILE   = 'test_data.csv'  \n",
    "OUT_FILE    = 'predictions.csv'\n"
   ]
  },
  {
   "cell_type": "code",
   "execution_count": 3,
   "id": "25ecc95d",
   "metadata": {},
   "outputs": [],
   "source": [
    "ratings = pd.read_csv(RATING_FILE)  \n",
    "trust   = pd.read_csv(TRUST_FILE) \n",
    "test_df = pd.read_csv(TEST_FILE)   \n"
   ]
  },
  {
   "cell_type": "code",
   "execution_count": 4,
   "id": "544d988d",
   "metadata": {},
   "outputs": [],
   "source": [
    "trust_sorted = trust.sort_values(\n",
    "    ['user_id_trustor', 'trust_value'],\n",
    "    ascending=[True, False]\n",
    ")\n",
    "topk = trust_sorted.groupby('user_id_trustor')['user_id_trustee'] \\\n",
    "                   .apply(lambda lst: lst.tolist()[:K]) \\\n",
    "                   .to_dict()\n"
   ]
  },
  {
   "cell_type": "code",
   "execution_count": 5,
   "id": "bf8287e1",
   "metadata": {},
   "outputs": [],
   "source": [
    "rating_map = {\n",
    "    (u, i): r\n",
    "    for u, i, r in zip(ratings.user_id, ratings.item_id, ratings.label)\n",
    "}\n",
    "trust_map = {\n",
    "    (u, v): tv\n",
    "    for u, v, tv in zip(\n",
    "        trust.user_id_trustor,\n",
    "        trust.user_id_trustee,\n",
    "        trust.trust_value\n",
    "    )\n",
    "}\n"
   ]
  },
  {
   "cell_type": "code",
   "execution_count": 6,
   "id": "b786b419",
   "metadata": {},
   "outputs": [],
   "source": [
    "def make_features(user_id, item_id):\n",
    "    \"\"\"\n",
    "    For (user_id, item_id), returns a list of length 2*K:\n",
    "      [r(v1,i), t(u->v1), r(v2,i), t(u->v2), …, r(vK,i), t(u->vK)]\n",
    "    Missing ratings or trust edges → -1\n",
    "    \"\"\"\n",
    "    neigh = topk.get(user_id, [])\n",
    "    feats = []\n",
    "    for v in neigh:\n",
    "        feats.append(rating_map.get((v, item_id), -1))   \n",
    "        feats.append(trust_map.get((user_id, v), -1))    \n",
    "    \n",
    "    if len(neigh) < K:\n",
    "        pads = K - len(neigh)\n",
    "        feats.extend([-1, -1] * pads)\n",
    "    return feats\n"
   ]
  },
  {
   "cell_type": "code",
   "execution_count": 7,
   "id": "3a96e0cb",
   "metadata": {},
   "outputs": [],
   "source": [
    "X = np.array(\n",
    "    [make_features(u, i) for u, i in zip(ratings.user_id, ratings.item_id)],\n",
    "    dtype=np.float32\n",
    ")\n",
    "y = ratings.label.values\n"
   ]
  },
  {
   "cell_type": "code",
   "execution_count": 8,
   "id": "15474d93",
   "metadata": {},
   "outputs": [],
   "source": [
    "X_train, X_val, y_train, y_val = train_test_split(\n",
    "    X, y, test_size=0.2, random_state=42\n",
    ")\n"
   ]
  },
  {
   "cell_type": "code",
   "execution_count": 9,
   "id": "803b329b",
   "metadata": {},
   "outputs": [],
   "source": [
    "dtrain = xgb.DMatrix(X_train, label=y_train)\n",
    "dvalid = xgb.DMatrix(X_val, label=y_val)\n"
   ]
  },
  {
   "cell_type": "code",
   "execution_count": 10,
   "id": "da5e3b0e",
   "metadata": {},
   "outputs": [],
   "source": [
    "param_dist = {\n",
    "    'learning_rate': uniform(0.01, 0.2),      # Uniform distribution over 0.01 to 0.2\n",
    "    'max_depth': randint(3, 15),               # Random integer between 3 and 15\n",
    "    'subsample': uniform(0.5, 0.5),            # Uniform distribution between 0.5 and 1\n",
    "    'colsample_bytree': uniform(0.5, 0.5),     # Uniform distribution between 0.5 and 1\n",
    "    'n_estimators': randint(50, 500),          # Random integer between 50 and 500\n",
    "    'gamma': uniform(0, 1),                    # Uniform distribution between 0 and 1\n",
    "    'min_child_weight': randint(1, 10)          # Random integer between 1 and 10\n",
    "}\n",
    "\n",
    "# Create XGBoost model\n",
    "xgb_model = xgb.XGBRegressor(objective='reg:squarederror', eval_metric='rmse')\n"
   ]
  },
  {
   "cell_type": "code",
   "execution_count": 11,
   "id": "82daa60a",
   "metadata": {},
   "outputs": [
    {
     "name": "stdout",
     "output_type": "stream",
     "text": [
      "Fitting 5 folds for each of 100 candidates, totalling 500 fits\n",
      "Best hyperparameters found: {'colsample_bytree': 0.9871241042672051, 'gamma': 0.9959312420303291, 'learning_rate': 0.02117423093547001, 'max_depth': 5, 'min_child_weight': 7, 'n_estimators': 270, 'subsample': 0.6754575062760393}\n"
     ]
    }
   ],
   "source": [
    "random_search = RandomizedSearchCV(\n",
    "    xgb_model,\n",
    "    param_distributions=param_dist,\n",
    "    n_iter=100,  # Number of different parameter combinations to try\n",
    "    scoring='neg_mean_squared_error',  # Use negative mean squared error as scoring\n",
    "    cv=5,   # 5-fold cross-validation\n",
    "    verbose=1,\n",
    "    random_state=42,\n",
    "    n_jobs=-1\n",
    ")\n",
    "\n",
    "# Fit the random search to the data\n",
    "random_search.fit(X_train, y_train)\n",
    "\n",
    "# Get the best parameters and model\n",
    "best_params = random_search.best_params_\n",
    "best_model = random_search.best_estimator_\n",
    "\n",
    "print(f\"Best hyperparameters found: {best_params}\")\n"
   ]
  },
  {
   "cell_type": "code",
   "execution_count": 12,
   "id": "5c0fcfee",
   "metadata": {},
   "outputs": [
    {
     "name": "stdout",
     "output_type": "stream",
     "text": [
      "R² on validation set: 0.0064\n",
      "MSE on validation set: 0.8618\n",
      "RMSE: 0.9283\n"
     ]
    }
   ],
   "source": [
    "# Evaluate the model on the validation set\n",
    "y_pred_val = best_model.predict(X_val)\n",
    "\n",
    "# Compute R² and MSE\n",
    "r2 = r2_score(y_val, y_pred_val)\n",
    "mse = mean_squared_error(y_val, y_pred_val)\n",
    "\n",
    "print(f\"R² on validation set: {r2:.4f}\")\n",
    "print(f\"MSE on validation set: {mse:.4f}\")\n",
    "rmse = np.sqrt(mse)\n",
    "print(f\"RMSE: {rmse:.4f}\")\n",
    "\n"
   ]
  },
  {
   "cell_type": "code",
   "execution_count": 13,
   "id": "2836e3be",
   "metadata": {},
   "outputs": [],
   "source": [
    "test_feats = np.vstack([make_features(u, i) for u, i in zip(test_df.user_id, test_df.item_id)])\n",
    "test_df['label'] = best_model.predict(test_feats)\n",
    "\n",
    "test_df.reset_index(drop=True, inplace=True)\n",
    "test_df['id'] = test_df.index + 1\n",
    "out = test_df[['id', 'label']]\n",
    "out.to_csv(OUT_FILE, index=False)\n"
   ]
  }
 ],
 "metadata": {
  "kernelspec": {
   "display_name": "Python 3",
   "language": "python",
   "name": "python3"
  },
  "language_info": {
   "codemirror_mode": {
    "name": "ipython",
    "version": 3
   },
   "file_extension": ".py",
   "mimetype": "text/x-python",
   "name": "python",
   "nbconvert_exporter": "python",
   "pygments_lexer": "ipython3",
   "version": "3.8.10"
  }
 },
 "nbformat": 4,
 "nbformat_minor": 5
}
