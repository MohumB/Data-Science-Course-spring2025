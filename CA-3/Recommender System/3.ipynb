{
 "cells": [
  {
   "cell_type": "code",
   "execution_count": 1,
   "id": "f4d484dd",
   "metadata": {},
   "outputs": [],
   "source": [
    "import pandas as pd\n",
    "import numpy as np\n",
    "import lightgbm as lgb\n",
    "from sklearn.model_selection import train_test_split\n"
   ]
  },
  {
   "cell_type": "code",
   "execution_count": 2,
   "id": "77e4dd79",
   "metadata": {},
   "outputs": [],
   "source": [
    "K = 10  \n",
    "RATING_FILE = 'train_data_movie_rate.csv'\n",
    "TRUST_FILE  = 'train_data_movie_trust.csv'\n",
    "TEST_FILE   = 'test_data.csv'  \n",
    "OUT_FILE    = 'predictions.csv'\n"
   ]
  },
  {
   "cell_type": "code",
   "execution_count": 3,
   "id": "61407115",
   "metadata": {},
   "outputs": [],
   "source": [
    "ratings = pd.read_csv(RATING_FILE)  \n",
    "trust   = pd.read_csv(TRUST_FILE) \n",
    "test_df = pd.read_csv(TEST_FILE)   "
   ]
  },
  {
   "cell_type": "code",
   "execution_count": 4,
   "id": "549b71e8",
   "metadata": {},
   "outputs": [],
   "source": [
    "trust_sorted = trust.sort_values(\n",
    "    ['user_id_trustor', 'trust_value'],\n",
    "    ascending=[True, False]\n",
    ")\n",
    "topk = trust_sorted.groupby('user_id_trustor')['user_id_trustee'] \\\n",
    "                   .apply(lambda lst: lst.tolist()[:K]) \\\n",
    "                   .to_dict()\n"
   ]
  },
  {
   "cell_type": "code",
   "execution_count": 5,
   "id": "158b6b83",
   "metadata": {},
   "outputs": [],
   "source": [
    "rating_map = {\n",
    "    (u, i): r\n",
    "    for u, i, r in zip(ratings.user_id, ratings.item_id, ratings.label)\n",
    "}\n",
    "trust_map = {\n",
    "    (u, v): tv\n",
    "    for u, v, tv in zip(\n",
    "        trust.user_id_trustor,\n",
    "        trust.user_id_trustee,\n",
    "        trust.trust_value\n",
    "    )\n",
    "}"
   ]
  },
  {
   "cell_type": "code",
   "execution_count": 6,
   "id": "8f6c13da",
   "metadata": {},
   "outputs": [],
   "source": [
    "def make_features(user_id, item_id):\n",
    "    \"\"\"\n",
    "    For (user_id, item_id), returns a list of length 2*K:\n",
    "      [r(v1,i), t(u->v1), r(v2,i), t(u->v2), …, r(vK,i), t(u->vK)]\n",
    "    Missing ratings or trust edges → -1\n",
    "    \"\"\"\n",
    "    neigh = topk.get(user_id, [])\n",
    "    feats = []\n",
    "    for v in neigh:\n",
    "        feats.append(rating_map.get((v, item_id), -1))   \n",
    "        feats.append(trust_map.get((user_id, v), -1))    \n",
    "    \n",
    "    if len(neigh) < K:\n",
    "        pads = K - len(neigh)\n",
    "        feats.extend([-1, -1] * pads)\n",
    "    return feats"
   ]
  },
  {
   "cell_type": "code",
   "execution_count": 7,
   "id": "f79d694f",
   "metadata": {},
   "outputs": [],
   "source": [
    "X = np.array(\n",
    "    [make_features(u, i) for u, i in zip(ratings.user_id, ratings.item_id)],\n",
    "    dtype=np.float32\n",
    ")\n",
    "y = ratings.label.values"
   ]
  },
  {
   "cell_type": "code",
   "execution_count": 8,
   "id": "b86b8d3c",
   "metadata": {},
   "outputs": [],
   "source": [
    "X_train, X_val, y_train, y_val = train_test_split(\n",
    "    X, y, test_size=0.2, random_state=42\n",
    ")"
   ]
  },
  {
   "cell_type": "code",
   "execution_count": 9,
   "id": "54594179",
   "metadata": {},
   "outputs": [],
   "source": [
    "dtrain = lgb.Dataset(X_train, label=y_train)\n",
    "dvalid = lgb.Dataset(X_val,   label=y_val, reference=dtrain)"
   ]
  },
  {
   "cell_type": "code",
   "execution_count": 10,
   "id": "bd430ffb",
   "metadata": {},
   "outputs": [],
   "source": [
    "params = {\n",
    "    'objective': 'regression',\n",
    "    'metric':    'rmse',\n",
    "    'learning_rate': 0.1,\n",
    "    'num_leaves':    31,\n",
    "    'verbose':       -1\n",
    "}\n",
    "model = lgb.train(\n",
    "    params,\n",
    "    train_set=dtrain,\n",
    "    num_boost_round=1000,\n",
    "    valid_sets=[dvalid]\n",
    ")"
   ]
  },
  {
   "cell_type": "code",
   "execution_count": 11,
   "id": "50fbf645",
   "metadata": {},
   "outputs": [],
   "source": [
    "test_feats = np.vstack([\n",
    "    make_features(u, i)\n",
    "    for u, i in zip(test_df.user_id, test_df.item_id)\n",
    "])\n",
    "test_df['label'] = model.predict(test_feats)\n",
    "\n",
    "test_df.reset_index(drop=True, inplace=True)\n",
    "test_df['id'] = test_df.index + 1\n",
    "out = test_df[['id','label']]\n",
    "out.to_csv(OUT_FILE, index=False)"
   ]
  }
 ],
 "metadata": {
  "kernelspec": {
   "display_name": "Python 3",
   "language": "python",
   "name": "python3"
  },
  "language_info": {
   "codemirror_mode": {
    "name": "ipython",
    "version": 3
   },
   "file_extension": ".py",
   "mimetype": "text/x-python",
   "name": "python",
   "nbconvert_exporter": "python",
   "pygments_lexer": "ipython3",
   "version": "3.8.10"
  }
 },
 "nbformat": 4,
 "nbformat_minor": 5
}
